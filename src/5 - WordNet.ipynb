{
 "metadata": {
  "name": "5 - WordNet"
 },
 "nbformat": 3,
 "nbformat_minor": 0,
 "worksheets": [
  {
   "cells": [
    {
     "cell_type": "code",
     "collapsed": false,
     "input": [
      "from nltk.corpus import wordnet as wn"
     ],
     "language": "python",
     "metadata": {},
     "outputs": [],
     "prompt_number": 1
    },
    {
     "cell_type": "code",
     "collapsed": false,
     "input": [
      "[(synset, synset.definition) for synset in wn.synsets('dog')]"
     ],
     "language": "python",
     "metadata": {},
     "outputs": [
      {
       "output_type": "pyout",
       "prompt_number": 2,
       "text": [
        "[(Synset('dog.n.01'),\n",
        "  'a member of the genus Canis (probably descended from the common wolf) that has been domesticated by man since prehistoric times; occurs in many breeds'),\n",
        " (Synset('frump.n.01'), 'a dull unattractive unpleasant girl or woman'),\n",
        " (Synset('dog.n.03'), 'informal term for a man'),\n",
        " (Synset('cad.n.01'), 'someone who is morally reprehensible'),\n",
        " (Synset('frank.n.02'),\n",
        "  'a smooth-textured sausage of minced beef or pork usually smoked; often served on a bread roll'),\n",
        " (Synset('pawl.n.01'),\n",
        "  'a hinged catch that fits into a notch of a ratchet to move a wheel forward or prevent it from moving backward'),\n",
        " (Synset('andiron.n.01'), 'metal supports for logs in a fireplace'),\n",
        " (Synset('chase.v.01'), 'go after with the intent to catch')]"
       ]
      }
     ],
     "prompt_number": 2
    },
    {
     "cell_type": "code",
     "collapsed": false,
     "input": [
      "dog = wn.synset('dog.n.01')\n",
      "cat = wn.synset('cat.n.01')\n",
      "toaster = wn.synset('toaster.n.01')"
     ],
     "language": "python",
     "metadata": {},
     "outputs": [],
     "prompt_number": 3
    },
    {
     "cell_type": "code",
     "collapsed": false,
     "input": [
      "wn.wup_similarity(dog, cat)"
     ],
     "language": "python",
     "metadata": {},
     "outputs": [
      {
       "output_type": "pyout",
       "prompt_number": 4,
       "text": [
        "0.8571428571428571"
       ]
      }
     ],
     "prompt_number": 4
    },
    {
     "cell_type": "code",
     "collapsed": false,
     "input": [
      "wn.wup_similarity(cat, toaster)"
     ],
     "language": "python",
     "metadata": {},
     "outputs": [
      {
       "output_type": "pyout",
       "prompt_number": 5,
       "text": [
        "0.5"
       ]
      }
     ],
     "prompt_number": 5
    },
    {
     "cell_type": "code",
     "collapsed": false,
     "input": [
      "wn.morphy('dogs'), wn.morphy('barked')"
     ],
     "language": "python",
     "metadata": {},
     "outputs": [
      {
       "output_type": "pyout",
       "prompt_number": 6,
       "text": [
        "('dog', 'bark')"
       ]
      }
     ],
     "prompt_number": 6
    },
    {
     "cell_type": "code",
     "collapsed": false,
     "input": [
      "[(synset, synset.definition) for synset in wn.synsets('bark')]"
     ],
     "language": "python",
     "metadata": {},
     "outputs": [
      {
       "output_type": "pyout",
       "prompt_number": 7,
       "text": [
        "[(Synset('bark.n.01'),\n",
        "  'tough protective covering of the woody stems and roots of trees and other woody plants'),\n",
        " (Synset('bark.n.02'), 'a noise resembling the bark of a dog'),\n",
        " (Synset('bark.n.03'), 'a sailing ship with 3 (or more) masts'),\n",
        " (Synset('bark.n.04'), 'the sound made by a dog'),\n",
        " (Synset('bark.v.01'), 'speak in an unfriendly tone'),\n",
        " (Synset('bark.v.02'), 'cover with bark'),\n",
        " (Synset('bark.v.03'), 'remove the bark of a tree'),\n",
        " (Synset('bark.v.04'), 'make barking sounds'),\n",
        " (Synset('bark.v.05'), 'tan (a skin) with bark tannins')]"
       ]
      }
     ],
     "prompt_number": 7
    },
    {
     "cell_type": "code",
     "collapsed": false,
     "input": [
      "print wn.wup_similarity(wn.synset('dog.n.01'), wn.synset('bark.n.04'))"
     ],
     "language": "python",
     "metadata": {},
     "outputs": [
      {
       "output_type": "stream",
       "stream": "stdout",
       "text": [
        "0.117647058824\n"
       ]
      }
     ],
     "prompt_number": 8
    },
    {
     "cell_type": "code",
     "collapsed": false,
     "input": [],
     "language": "python",
     "metadata": {},
     "outputs": []
    }
   ],
   "metadata": {}
  }
 ]
}