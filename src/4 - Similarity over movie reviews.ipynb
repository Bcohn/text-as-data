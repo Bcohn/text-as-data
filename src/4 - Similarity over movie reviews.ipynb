{
 "metadata": {
  "name": "4 - Similarity over movie reviews"
 },
 "nbformat": 3,
 "nbformat_minor": 0,
 "worksheets": [
  {
   "cells": [
    {
     "cell_type": "code",
     "collapsed": false,
     "input": [
      "import nltk\n",
      "from nltk.corpus import movie_reviews\n",
      "import numpy as np"
     ],
     "language": "python",
     "metadata": {},
     "outputs": []
    },
    {
     "cell_type": "code",
     "collapsed": false,
     "input": [
      "documents = [\n",
      "    list(movie_reviews.words(fileid))\n",
      "    for category in movie_reviews.categories()\n",
      "    for fileid in movie_reviews.fileids(category)\n",
      "]"
     ],
     "language": "python",
     "metadata": {},
     "outputs": []
    },
    {
     "cell_type": "code",
     "collapsed": false,
     "input": [
      "print ' '.join(documents[1])"
     ],
     "language": "python",
     "metadata": {},
     "outputs": []
    },
    {
     "cell_type": "code",
     "collapsed": false,
     "input": [
      "from gensim import models, similarities, corpora"
     ],
     "language": "python",
     "metadata": {},
     "outputs": []
    },
    {
     "cell_type": "code",
     "collapsed": false,
     "input": [
      "dictionary = corpora.Dictionary(documents)\n",
      "corpus = [dictionary.doc2bow(text) for text in documents]"
     ],
     "language": "python",
     "metadata": {},
     "outputs": []
    },
    {
     "cell_type": "code",
     "collapsed": false,
     "input": [
      "len(dictionary), len(corpus)"
     ],
     "language": "python",
     "metadata": {},
     "outputs": []
    },
    {
     "cell_type": "code",
     "collapsed": false,
     "input": [
      "tfidf = models.TfidfModel(corpus)\n",
      "corpus_tfidf = tfidf[corpus]\n",
      "lsi = models.LsiModel(corpus_tfidf, id2word=dictionary, num_topics=50)"
     ],
     "language": "python",
     "metadata": {},
     "outputs": []
    },
    {
     "cell_type": "code",
     "collapsed": false,
     "input": [
      "# Gives us an object where we put in an appropriate reduced\n",
      "# bag of words, and it gives us similarity over all documents\n",
      "similarity = similarities.MatrixSimilarity(lsi[corpus])"
     ],
     "language": "python",
     "metadata": {},
     "outputs": []
    },
    {
     "cell_type": "code",
     "collapsed": false,
     "input": [
      "# Here's a way to get a similarity vector.\n",
      "def doc_similarities(doc):\n",
      "    bag_of_words = dictionary.doc2bow(doc)\n",
      "    return similarity[lsi[bag_of_words]]"
     ],
     "language": "python",
     "metadata": {},
     "outputs": []
    },
    {
     "cell_type": "code",
     "collapsed": false,
     "input": [
      "# A useful function for looking at what's going on.\n",
      "#\n",
      "# It takes in a vector of how similar N things are to some input.\n",
      "# It also takes a 'display_func' to tell it how to show you what\n",
      "# those N things actually are.\n",
      "def show_similar(similarities, display_func):\n",
      "    best_matches = np.argsort(similarities)[::-1][:10]\n",
      "    for index in best_matches:\n",
      "        print \"%4.4f\\t%s\" % (similarities[index], display_func(index))"
     ],
     "language": "python",
     "metadata": {},
     "outputs": []
    },
    {
     "cell_type": "code",
     "collapsed": false,
     "input": [
      "# And here's the display_func we'll need.\n",
      "def brief_document(index):\n",
      "    doc = documents[index]\n",
      "    return ' '.join(doc)[:200] + '...'"
     ],
     "language": "python",
     "metadata": {},
     "outputs": []
    },
    {
     "cell_type": "code",
     "collapsed": false,
     "input": [
      "show_similar(doc_similarities(documents[1]), brief_document)"
     ],
     "language": "python",
     "metadata": {},
     "outputs": []
    },
    {
     "cell_type": "code",
     "collapsed": false,
     "input": [],
     "language": "python",
     "metadata": {},
     "outputs": []
    }
   ],
   "metadata": {}
  }
 ]
}