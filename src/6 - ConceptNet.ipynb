{
 "metadata": {
  "name": "6 - ConceptNet"
 },
 "nbformat": 3,
 "nbformat_minor": 0,
 "worksheets": [
  {
   "cells": [
    {
     "cell_type": "code",
     "collapsed": false,
     "input": [
      "import requests\n",
      "import json"
     ],
     "language": "python",
     "metadata": {},
     "outputs": [],
     "prompt_number": 14
    },
    {
     "cell_type": "code",
     "collapsed": false,
     "input": [
      "BASE = 'http://conceptnet5.media.mit.edu/data/5.2'"
     ],
     "language": "python",
     "metadata": {},
     "outputs": [],
     "prompt_number": 15
    },
    {
     "cell_type": "code",
     "collapsed": false,
     "input": [
      "def conceptnet_lookup(uri):\n",
      "    return requests.get(BASE + uri).json()"
     ],
     "language": "python",
     "metadata": {},
     "outputs": [],
     "prompt_number": 3
    },
    {
     "cell_type": "code",
     "collapsed": false,
     "input": [
      "for edge in conceptnet_lookup('/c/en/learn')['edges']:\n",
      "    print [edge['rel'], edge['start'], edge['end']]"
     ],
     "language": "python",
     "metadata": {},
     "outputs": [
      {
       "output_type": "stream",
       "stream": "stdout",
       "text": [
        "[u'/r/RelatedTo', u'/c/en/school', u'/c/en/learn']\n",
        "[u'/r/HasSubevent', u'/c/en/attend_school', u'/c/en/learn']\n",
        "[u'/r/Causes', u'/c/en/read', u'/c/en/learn']\n",
        "[u'/r/UsedFor', u'/c/en/book', u'/c/en/learn']\n",
        "[u'/r/UsedFor', u'/c/en/school', u'/c/en/learn']\n",
        "[u'/r/MotivatedByGoal', u'/c/en/read', u'/c/en/learn']\n",
        "[u'/r/RelatedTo', u'/c/en/class', u'/c/en/learn']\n",
        "[u'/r/RelatedTo', u'/c/en/learn', u'/c/en/knowledge']\n",
        "[u'/r/HasSubevent', u'/c/en/read', u'/c/en/learn']\n",
        "[u'/r/RelatedTo', u'/c/en/learn', u'/c/en/school']\n",
        "[u'/r/Causes', u'/c/en/study', u'/c/en/learn']\n",
        "[u'/r/HasSubevent', u'/c/en/go_to_school', u'/c/en/learn']\n",
        "[u'/r/Causes', u'/c/en/read_magazine', u'/c/en/learn']\n",
        "[u'/r/Causes', u'/c/en/take_course', u'/c/en/learn']\n",
        "[u'/r/RelatedTo', u'/c/en/learn', u'/c/en/education']\n",
        "[u'/r/Causes', u'/c/en/commit_to_memory', u'/c/en/learn']\n",
        "[u'/r/HasSubevent', u'/c/en/see_exhibit', u'/c/en/learn']\n",
        "[u'/r/HasSubevent', u'/c/en/study', u'/c/en/learn']\n",
        "[u'/r/Causes', u'/c/en/attend_school', u'/c/en/learn']\n",
        "[u'/r/RelatedTo', u'/c/en/learn', u'/c/en/teach']\n",
        "[u'/r/UsedFor', u'/c/en/read', u'/c/en/learn']\n",
        "[u'/r/RelatedTo', u'/c/en/learn', u'/c/en/study']\n",
        "[u'/r/HasSubevent', u'/c/en/live_life', u'/c/en/learn']\n",
        "[u'/r/Causes', u'/c/en/attend_class', u'/c/en/learn']\n",
        "[u'/r/MotivatedByGoal', u'/c/en/learn', u'/c/en/have_more_knowledge']\n",
        "[u'/r/Causes', u'/c/en/listen', u'/c/en/learn']\n",
        "[u'/r/UsedFor', u'/c/en/college', u'/c/en/learn']\n",
        "[u'/r/HasPrerequisite', u'/c/en/learn', u'/c/en/study']\n",
        "[u'/r/Desires', u'/c/en/student', u'/c/en/learn']\n",
        "[u'/r/RelatedTo', u'/c/en/learn', u'/c/en/educate']\n",
        "[u'/r/Causes', u'/c/en/learn', u'/c/en/gain_knowledge']\n",
        "[u'/r/Desires', u'/c/en/child', u'/c/en/learn']\n",
        "[u'/r/Causes', u'/c/en/learn', u'/c/en/have_understand']\n",
        "[u'/r/UsedFor', u'/c/en/play', u'/c/en/learn']\n",
        "[u'/r/UsedFor', u'/c/en/watch_tv_show', u'/c/en/learn']\n",
        "[u'/r/Causes', u'/c/en/study_for_subject', u'/c/en/learn']\n",
        "[u'/r/HasProperty', u'/c/en/learn', u'/c/en/fun']\n",
        "[u'/r/HasSubevent', u'/c/en/read_magazine', u'/c/en/learn']\n",
        "[u'/r/Causes', u'/c/en/learn', u'/c/en/understand']\n",
        "[u'/r/Causes', u'/c/en/memorise', u'/c/en/learn']\n",
        "[u'/r/RelatedTo', u'/c/en/know', u'/c/en/learn']\n",
        "[u'/r/Antonym', u'/c/en/learn', u'/c/en/teach']\n",
        "[u'/r/MotivatedByGoal', u'/c/en/study', u'/c/en/learn']\n",
        "[u'/r/UsedFor', u'/c/en/literature', u'/c/en/learn']\n",
        "[u'/r/Causes', u'/c/en/learn', u'/c/en/knowledge']\n",
        "[u'/r/Causes', u'/c/en/play', u'/c/en/learn']\n",
        "[u'/r/CausesDesire', u'/c/en/book', u'/c/en/learn']\n",
        "[u'/r/Causes', u'/c/en/read_newspaper', u'/c/en/learn']\n",
        "[u'/r/MotivatedByGoal', u'/c/en/see_exhibit', u'/c/en/learn']\n",
        "[u'/r/AtLocation', u'/c/en/learn', u'/c/en/school']\n"
       ]
      }
     ],
     "prompt_number": 16
    },
    {
     "cell_type": "code",
     "collapsed": false,
     "input": [
      "conceptnet_lookup('/assoc/list/en/good@1,bad@-1')"
     ],
     "language": "python",
     "metadata": {},
     "outputs": [
      {
       "output_type": "pyout",
       "prompt_number": 6,
       "text": [
        "{u'similar': [[u'/c/en/good', 0.47050079831483077],\n",
        "  [u'/c/en/worse/neg', 0.4647777894676365],\n",
        "  [u'/c/en/evil/neg', 0.4543614988260461],\n",
        "  [u'/c/sco/guid', 0.4474439398968634],\n",
        "  [u'/c/sw/mzuri', 0.4452891780527926],\n",
        "  [u'/c/en/good_best', 0.4451323370081064],\n",
        "  [u'/c/cs/dobr\\xfd', 0.4445255996028307],\n",
        "  [u'/c/pl/dobry', 0.4443600853128794],\n",
        "  [u'/c/sl/dober', 0.4404988814933659],\n",
        "  [u'/c/lv/labs', 0.44045784840951735],\n",
        "  [u'/c/en/battle_evil', 0.4404576861410711],\n",
        "  [u'/c/ase/openb@chin-palmback-openb@centerchesthigh-palmup_openb@palm-palmup-openb@centerchesthigh-palmup',\n",
        "   0.44040043173520876],\n",
        "  [u'/c/pt/bom', 0.43995954393040704],\n",
        "  [u'/c/sv/bra', 0.434919992649883],\n",
        "  [u'/c/fr/bon', 0.43486079277902145],\n",
        "  [u'/c/no/god', 0.43415333482841356],\n",
        "  [u'/c/hr/dobar', 0.43415333482841356],\n",
        "  [u'/c/en/their_own_house', 0.4337190618111633],\n",
        "  [u'/c/en/more_good', 0.4300614402863551],\n",
        "  [u'/c/hi/\\u0909\\u0924\\u094d\\u0924\\u092e', 0.42954223573515127]],\n",
        " u'terms': [[u'/c/en/good', 1.0], [u'/c/en/bad', -1.0]]}"
       ]
      }
     ],
     "prompt_number": 6
    },
    {
     "cell_type": "code",
     "collapsed": false,
     "input": [
      "conceptnet_lookup('/assoc/list/en/good@1,bad@-1?filter=/c/en')"
     ],
     "language": "python",
     "metadata": {},
     "outputs": [
      {
       "output_type": "pyout",
       "prompt_number": 18,
       "text": [
        "{u'similar': [[u'/c/en/good', 0.47050079831483077],\n",
        "  [u'/c/en/worse/neg', 0.4647777894676365],\n",
        "  [u'/c/en/evil/neg', 0.4543614988260461],\n",
        "  [u'/c/en/good_best', 0.4451323370081064],\n",
        "  [u'/c/en/battle_evil', 0.4404576861410711],\n",
        "  [u'/c/en/their_own_house', 0.4337190618111633],\n",
        "  [u'/c/en/more_good', 0.4300614402863551],\n",
        "  [u'/c/en/more_time_off', 0.42880017829524236],\n",
        "  [u'/c/en/be_knowledgeable', 0.427628644444005],\n",
        "  [u'/c/en/trust_himself', 0.4224133806484881],\n",
        "  [u'/c/en/understand_themselves', 0.4224133806484881],\n",
        "  [u'/c/en/feel_important', 0.4209811296274369],\n",
        "  [u'/c/en/not_feel_pain', 0.41697906926006406],\n",
        "  [u'/c/en/have_good_friend', 0.41697906926006406],\n",
        "  [u'/c/en/read_interest_book', 0.41697906926006406],\n",
        "  [u'/c/en/many_good_friend', 0.41697906926006406],\n",
        "  [u'/c/en/own_nice_thing', 0.41697906926006406],\n",
        "  [u'/c/en/understand_their_world', 0.41697906926006406],\n",
        "  [u'/c/en/talk_about_themselves', 0.41697906926006406],\n",
        "  [u'/c/en/be_cherish', 0.41697906926006406]],\n",
        " u'terms': [[u'/c/en/good', 1.0], [u'/c/en/bad', -1.0]]}"
       ]
      }
     ],
     "prompt_number": 18
    },
    {
     "cell_type": "code",
     "collapsed": false,
     "input": [
      "conceptnet_lookup('/assoc/list/en/good@-1,bad@1?filter=/c/en')"
     ],
     "language": "python",
     "metadata": {},
     "outputs": [
      {
       "output_type": "pyout",
       "prompt_number": 19,
       "text": [
        "{u'similar': [[u'/c/en/be_diseased', 0.47076164998714126],\n",
        "  [u'/c/en/bad', 0.4697424196467662],\n",
        "  [u'/c/en/be_ridiculous', 0.46322624645038074],\n",
        "  [u'/c/en/bore_job', 0.46322624645038074],\n",
        "  [u'/c/en/be_in_danger', 0.4624410813745883],\n",
        "  [u'/c/en/lose_his_friend', 0.46068337382691166],\n",
        "  [u'/c/en/be_alienate', 0.45972785186415793],\n",
        "  [u'/c/en/be_in_prison', 0.45952691521668837],\n",
        "  [u'/c/en/mean_boss', 0.4557403105250725],\n",
        "  [u'/c/en/seem_unattractive', 0.45508742256466245],\n",
        "  [u'/c/en/slow_internet_connection', 0.45508742256466245],\n",
        "  [u'/c/en/have_no_home', 0.45508742256466245],\n",
        "  [u'/c/en/be_fearful', 0.4550553782334695],\n",
        "  [u'/c/en/die_alone', 0.45447192049409124],\n",
        "  [u'/c/en/be_call_name', 0.44878462376537925],\n",
        "  [u'/c/en/good/neg', 0.4382643292482922],\n",
        "  [u'/c/en/at_war', 0.43701984014319134],\n",
        "  [u'/c/en/break_her_leg', 0.4361325129533623],\n",
        "  [u'/c/en/hurtful', 0.434826788395228],\n",
        "  [u'/c/en/be_lay_off', 0.43108951594199424]],\n",
        " u'terms': [[u'/c/en/good', -1.0], [u'/c/en/bad', 1.0]]}"
       ]
      }
     ],
     "prompt_number": 19
    },
    {
     "cell_type": "code",
     "collapsed": false,
     "input": [
      "conceptnet_lookup('/assoc/c/en/travel?filter=/c/en')"
     ],
     "language": "python",
     "metadata": {},
     "outputs": [
      {
       "output_type": "pyout",
       "prompt_number": 9,
       "text": [
        "{u'similar': [[u'/c/en/travel', 0.9980218936882753],\n",
        "  [u'/c/en/jet_lag', 0.9506833539511717],\n",
        "  [u'/c/en/round_trip_ticket', 0.950622214818893],\n",
        "  [u'/c/en/motion_sickness', 0.9411064717951151],\n",
        "  [u'/c/en/wayfarer', 0.9360375831191107],\n",
        "  [u'/c/en/see_new_place', 0.9223090801001367],\n",
        "  [u'/c/en/journey', 0.9199605282681714],\n",
        "  [u'/c/en/pack_suitcase', 0.9193907906332077],\n",
        "  [u'/c/en/mode_of_transport', 0.9176956960424584],\n",
        "  [u'/c/en/carry_luggage', 0.9161086925679865],\n",
        "  [u'/c/en/bike', 0.8786478830092546],\n",
        "  [u'/c/en/read_map', 0.8738165898383649],\n",
        "  [u'/c/en/sledge', 0.8520033136517973],\n",
        "  [u'/c/en/trek', 0.851880522866817],\n",
        "  [u'/c/en/go_place', 0.8452219006463533],\n",
        "  [u'/c/en/cyclist', 0.8433467568097406],\n",
        "  [u'/c/en/go_somewhere', 0.8430575684088836],\n",
        "  [u'/c/en/commute', 0.8354010727192941],\n",
        "  [u'/c/en/bicycle', 0.8344200469453033],\n",
        "  [u'/c/en/railroad', 0.8167684941747207]],\n",
        " u'terms': [[u'/c/en/travel', 1.0]]}"
       ]
      }
     ],
     "prompt_number": 9
    }
   ],
   "metadata": {}
  }
 ]
}