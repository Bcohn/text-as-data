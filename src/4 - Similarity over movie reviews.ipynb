{
 "metadata": {
  "name": ""
 },
 "nbformat": 3,
 "nbformat_minor": 0,
 "worksheets": [
  {
   "cells": [
    {
     "cell_type": "code",
     "collapsed": false,
     "input": [
      "import nltk\n",
      "from nltk.corpus import movie_reviews\n",
      "import numpy as np"
     ],
     "language": "python",
     "metadata": {},
     "outputs": [],
     "prompt_number": 1
    },
    {
     "cell_type": "code",
     "collapsed": false,
     "input": [
      "documents = [\n",
      "    list(movie_reviews.words(fileid))\n",
      "    for category in movie_reviews.categories()\n",
      "    for fileid in movie_reviews.fileids(category)\n",
      "]"
     ],
     "language": "python",
     "metadata": {},
     "outputs": [],
     "prompt_number": 2
    },
    {
     "cell_type": "code",
     "collapsed": false,
     "input": [
      "print ' '.join(documents[1])"
     ],
     "language": "python",
     "metadata": {},
     "outputs": [
      {
       "output_type": "stream",
       "stream": "stdout",
       "text": [
        "the happy bastard ' s quick movie review damn that y2k bug . it ' s got a head start in this movie starring jamie lee curtis and another baldwin brother ( william this time ) in a story regarding a crew of a tugboat that comes across a deserted russian tech ship that has a strangeness to it when they kick the power back on . little do they know the power within . . . going for the gore and bringing on a few action sequences here and there , virus still feels very empty , like a movie going for all flash and no substance . we don ' t know why the crew was really out in the middle of nowhere , we don ' t know the origin of what took over the ship ( just that a big pink flashy thing hit the mir ) , and , of course , we don ' t know why donald sutherland is stumbling around drunkenly throughout . here , it ' s just \" hey , let ' s chase these people around with some robots \" . the acting is below average , even from the likes of curtis . you ' re more likely to get a kick out of her work in halloween h20 . sutherland is wasted and baldwin , well , he ' s acting like a baldwin , of course . the real star here are stan winston ' s robot design , some schnazzy cgi , and the occasional good gore shot , like picking into someone ' s brain . so , if robots and body parts really turn you on , here ' s your movie . otherwise , it ' s pretty much a sunken ship of a movie .\n"
       ]
      }
     ],
     "prompt_number": 3
    },
    {
     "cell_type": "code",
     "collapsed": false,
     "input": [
      "from gensim import models, similarities, corpora"
     ],
     "language": "python",
     "metadata": {},
     "outputs": [],
     "prompt_number": 5
    },
    {
     "cell_type": "code",
     "collapsed": false,
     "input": [
      "dictionary = corpora.Dictionary(documents)\n",
      "corpus = [dictionary.doc2bow(text) for text in documents]"
     ],
     "language": "python",
     "metadata": {},
     "outputs": [],
     "prompt_number": 6
    },
    {
     "cell_type": "code",
     "collapsed": false,
     "input": [
      "len(dictionary), len(corpus)"
     ],
     "language": "python",
     "metadata": {},
     "outputs": [
      {
       "metadata": {},
       "output_type": "pyout",
       "prompt_number": 7,
       "text": [
        "(39768, 2000)"
       ]
      }
     ],
     "prompt_number": 7
    },
    {
     "cell_type": "code",
     "collapsed": false,
     "input": [
      "tfidf = models.TfidfModel(corpus)\n",
      "corpus_tfidf = tfidf[corpus]\n",
      "lsi = models.LsiModel(corpus_tfidf, id2word=dictionary, num_topics=50)"
     ],
     "language": "python",
     "metadata": {},
     "outputs": [],
     "prompt_number": 8
    },
    {
     "cell_type": "code",
     "collapsed": false,
     "input": [
      "# Gives us an object where we put in an appropriate reduced\n",
      "# bag of words, and it gives us similarity over all documents\n",
      "similarity = similarities.MatrixSimilarity(lsi[corpus])"
     ],
     "language": "python",
     "metadata": {},
     "outputs": [],
     "prompt_number": 9
    },
    {
     "cell_type": "code",
     "collapsed": false,
     "input": [
      "# A useful function for looking at what's going on.\n",
      "#\n",
      "# It takes in a vector of how similar N things are to some input.\n",
      "# It also takes a 'display_func' to tell it how to show you what\n",
      "# those N things actually are.\n",
      "def show_similar(similarities, display_func):\n",
      "    best_matches = np.argsort(similarities)[::-1][:10]\n",
      "    for index in best_matches:\n",
      "        print \"%4.4f\\t%s\" % (similarities[index], display_func(index))"
     ],
     "language": "python",
     "metadata": {},
     "outputs": [],
     "prompt_number": 10
    },
    {
     "cell_type": "code",
     "collapsed": false,
     "input": [
      "# Here's a way to get a similarity vector.\n",
      "def doc_similarities(doc):\n",
      "    bag_of_words = dictionary.doc2bow(doc)\n",
      "    return similarity[lsi[bag_of_words]]"
     ],
     "language": "python",
     "metadata": {},
     "outputs": [],
     "prompt_number": 11
    },
    {
     "cell_type": "code",
     "collapsed": false,
     "input": [
      "# And here's the display_func we'll need.\n",
      "def brief_document(index):\n",
      "    doc = documents[index]\n",
      "    return ' '.join(doc)[:200] + '...'"
     ],
     "language": "python",
     "metadata": {},
     "outputs": [],
     "prompt_number": 12
    },
    {
     "cell_type": "code",
     "collapsed": false,
     "input": [
      "show_similar(doc_similarities(documents[1]), brief_document)"
     ],
     "language": "python",
     "metadata": {},
     "outputs": [
      {
       "output_type": "stream",
       "stream": "stdout",
       "text": [
        "1.0000\tthe happy bastard ' s quick movie review damn that y2k bug . it ' s got a head start in this movie starring jamie lee curtis and another baldwin brother ( william this time ) in a story regarding a cr...\n",
        "0.9629\tif you ' re the kind of person who goes to see movies just because you long for some of that overpriced theatre popcorn ( butter optional ) , then this is the movie for you ! indeed , this has got to ...\n",
        "0.9422\tthis movie tries to present itself as the sequel to jan de bont ' s debut as a director , 1994 surprise hit speed . but the only thing the two movies have in common is sandra bullock as the female lea...\n",
        "0.9387\tisn ' t it the ultimate sign of a movie ' s cinematic ineptitude when you can ' t think of much to say about it other than \" it sucks \" ? one of the first official year 2000 releases , supernova is su...\n",
        "0.9383\tthe most interesting thing about virus is that the title of the film does not refer to the clunky robotic animals that try to kill our heroes . alas , it refers to our heroes ! as it turns out , the a...\n",
        "0.9345\tthe formula is simple . trap a varied group of people on an isolated location , then pop in a seemingly unstoppable monster to kill them one by one . these have been the successful ingredients for man...\n",
        "0.9301\tdeep rising is one of \" those \" movies . the kind of movie which serves no purpose except to entertain us . it does not ask us to think about important questions like life on other planets or the poss...\n",
        "0.9238\tthere may not be a critic alive who harbors as much affection for shlock monster movies as i do . i delighted in the sneaky - smart entertainment of ron underwood ' s big - underground - worm yarn tre...\n",
        "0.9233\twelcome to your oh - so typical sequel . it tries to be twice as big as it ' s predecessor , yet ends up twice as shallow . shallow . . . . hmm . . . now there ' s an idea . maybe if the ill - fated c...\n",
        "0.9222\there ' s something to chew on : what ' s the favorite food of big , cheesy - looking special effects monsters like the one lurking in the bowels of a luxury liner in deep rising ? the obvious answer t...\n"
       ]
      }
     ],
     "prompt_number": 13
    },
    {
     "cell_type": "code",
     "collapsed": false,
     "input": [
      "def term_similarities(term):\n",
      "    return lsi.projection.u.dot(lsi.projection.u[dictionary.token2id[term]])"
     ],
     "language": "python",
     "metadata": {},
     "outputs": [],
     "prompt_number": 14
    },
    {
     "cell_type": "code",
     "collapsed": false,
     "input": [
      "show_similar(term_similarities('boat'), lambda x: dictionary.id2token[x])"
     ],
     "language": "python",
     "metadata": {},
     "outputs": [
      {
       "output_type": "stream",
       "stream": "stdout",
       "text": [
        "0.0257\tship\n",
        "0.0210\ttitanic\n",
        "0.0140\tjoe\n",
        "0.0124\tgodzilla\n",
        "0.0102\tcameron\n",
        "0.0102\tvirus\n",
        "0.0091\trose\n",
        "0.0085\t--\n",
        "0.0082\trising\n",
        "0.0079\tspielberg\n"
       ]
      }
     ],
     "prompt_number": 15
    },
    {
     "cell_type": "code",
     "collapsed": false,
     "input": [
      "show_similar(term_similarities('alien'), lambda x: dictionary.id2token[x])"
     ],
     "language": "python",
     "metadata": {},
     "outputs": [
      {
       "output_type": "stream",
       "stream": "stdout",
       "text": [
        "0.3406\talien\n",
        "0.2193\tripley\n",
        "0.1851\taliens\n",
        "0.0884\tspecies\n",
        "0.0584\tfincher\n",
        "0.0579\tweaver\n",
        "0.0480\t\u0012\n",
        "0.0480\t3\n",
        "0.0438\tresurrection\n",
        "0.0423\tpatrick\n"
       ]
      }
     ],
     "prompt_number": 16
    },
    {
     "cell_type": "code",
     "collapsed": false,
     "input": [
      "show_similar(term_similarities('good'), lambda x: dictionary.id2token[x])"
     ],
     "language": "python",
     "metadata": {},
     "outputs": [
      {
       "output_type": "stream",
       "stream": "stdout",
       "text": [
        "0.0110\tpatch\n",
        "0.0098\tmelvin\n",
        "0.0089\tlambeau\n",
        "0.0085\tmurphy\n",
        "0.0084\thunting\n",
        "0.0083\ti\n",
        "0.0078\tgood\n",
        "0.0076\taction\n",
        "0.0071\tbad\n",
        "0.0068\treally\n"
       ]
      }
     ],
     "prompt_number": 17
    },
    {
     "cell_type": "code",
     "collapsed": false,
     "input": [],
     "language": "python",
     "metadata": {},
     "outputs": []
    }
   ],
   "metadata": {}
  }
 ]
}