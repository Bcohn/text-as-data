{
 "metadata": {
  "name": "3 - Movie review classifier"
 },
 "nbformat": 3,
 "nbformat_minor": 0,
 "worksheets": [
  {
   "cells": [
    {
     "cell_type": "code",
     "collapsed": false,
     "input": [
      "import nltk\n",
      "from nltk.corpus import movie_reviews\n",
      "from sklearn.feature_extraction.text import CountVectorizer, TfidfVectorizer\n",
      "from sklearn.naive_bayes import BernoulliNB, MultinomialNB\n",
      "import numpy as np\n",
      "import random"
     ],
     "language": "python",
     "metadata": {},
     "outputs": []
    },
    {
     "cell_type": "code",
     "collapsed": false,
     "input": [
      "# Get a list of (document text, category)\n",
      "documents = [\n",
      "    (movie_reviews.raw(fileid), category)\n",
      "    for category in movie_reviews.categories()\n",
      "    for fileid in movie_reviews.fileids(category)\n",
      "]\n",
      "random.seed(3)\n",
      "random.shuffle(documents)"
     ],
     "language": "python",
     "metadata": {},
     "outputs": []
    },
    {
     "cell_type": "code",
     "collapsed": false,
     "input": [
      "reviewtext, rating = documents[0]\n",
      "print reviewtext\n",
      "print rating"
     ],
     "language": "python",
     "metadata": {},
     "outputs": []
    },
    {
     "cell_type": "code",
     "collapsed": false,
     "input": [
      "train_samples, test_samples = documents[:1000], documents[1000:]"
     ],
     "language": "python",
     "metadata": {},
     "outputs": []
    },
    {
     "cell_type": "code",
     "collapsed": false,
     "input": [
      "# Make feature vectors out of the documents, based on which words they contain\n",
      "vectorizer = CountVectorizer(binary=True)\n",
      "train_vectors = vectorizer.fit_transform([doc for doc, target in train_samples])\n",
      "test_vectors = vectorizer.transform([doc for doc, target in test_samples])\n",
      "train_targets = [target for doc, target in train_samples]\n",
      "test_targets = [target for doc, target in test_samples]"
     ],
     "language": "python",
     "metadata": {},
     "outputs": []
    },
    {
     "cell_type": "code",
     "collapsed": false,
     "input": [
      "classifier = BernoulliNB()"
     ],
     "language": "python",
     "metadata": {},
     "outputs": []
    },
    {
     "cell_type": "code",
     "collapsed": false,
     "input": [
      "classifier.fit(train_vectors, train_targets)"
     ],
     "language": "python",
     "metadata": {},
     "outputs": []
    },
    {
     "cell_type": "code",
     "collapsed": false,
     "input": [
      "classifier.score(test_vectors, test_targets)"
     ],
     "language": "python",
     "metadata": {},
     "outputs": []
    },
    {
     "cell_type": "code",
     "collapsed": false,
     "input": [
      "# A helper function to see which features affect the classification the most\n",
      "def show_most_informative_features(vectorizer, classifier, n=10):\n",
      "    neg = classifier.feature_log_prob_[0]\n",
      "    pos = classifier.feature_log_prob_[1]\n",
      "    valence = (pos - neg)\n",
      "    ordered = np.argsort(valence)\n",
      "    interesting = np.hstack([ordered[:n], ordered[-n:]])\n",
      "    feature_names = vectorizer.get_feature_names()\n",
      "    for index in ordered[:n]:\n",
      "        print \"%+4.4f\\t%s\" % (valence[index], feature_names[index])\n",
      "    print '\\t...'\n",
      "    for index in ordered[-n:]:\n",
      "        print \"%+4.4f\\t%s\" % (valence[index], feature_names[index])\n",
      "    "
     ],
     "language": "python",
     "metadata": {},
     "outputs": []
    },
    {
     "cell_type": "code",
     "collapsed": false,
     "input": [
      "show_most_informative_features(vectorizer, classifier)"
     ],
     "language": "python",
     "metadata": {},
     "outputs": []
    },
    {
     "cell_type": "code",
     "collapsed": false,
     "input": [],
     "language": "python",
     "metadata": {},
     "outputs": []
    }
   ],
   "metadata": {}
  }
 ]
}