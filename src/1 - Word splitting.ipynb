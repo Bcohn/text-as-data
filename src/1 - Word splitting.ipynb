{
 "metadata": {
  "name": ""
 },
 "nbformat": 3,
 "nbformat_minor": 0,
 "worksheets": [
  {
   "cells": [
    {
     "cell_type": "code",
     "collapsed": false,
     "input": [
      "from __future__ import unicode_literals"
     ],
     "language": "python",
     "metadata": {},
     "outputs": [],
     "prompt_number": 1
    },
    {
     "cell_type": "code",
     "collapsed": false,
     "input": [
      "text = '''\"Words,\" you might say, \"are things separated by spaces.\"'''"
     ],
     "language": "python",
     "metadata": {},
     "outputs": [],
     "prompt_number": 2
    },
    {
     "cell_type": "code",
     "collapsed": false,
     "input": [
      "text.split(' ')"
     ],
     "language": "python",
     "metadata": {},
     "outputs": [
      {
       "metadata": {},
       "output_type": "pyout",
       "prompt_number": 3,
       "text": [
        "[u'\"Words,\"',\n",
        " u'you',\n",
        " u'might',\n",
        " u'say,',\n",
        " u'\"are',\n",
        " u'things',\n",
        " u'separated',\n",
        " u'by',\n",
        " u'spaces.\"']"
       ]
      }
     ],
     "prompt_number": 3
    },
    {
     "cell_type": "code",
     "collapsed": false,
     "input": [
      "text2 = '''Okay, words are sequences of letters that don't include punctuation.'''"
     ],
     "language": "python",
     "metadata": {},
     "outputs": [],
     "prompt_number": 4
    },
    {
     "cell_type": "code",
     "collapsed": false,
     "input": [
      "import re\n",
      "re.findall(r'[A-Za-z]+', text2)"
     ],
     "language": "python",
     "metadata": {},
     "outputs": [
      {
       "metadata": {},
       "output_type": "pyout",
       "prompt_number": 5,
       "text": [
        "[u'Okay',\n",
        " u'words',\n",
        " u'are',\n",
        " u'sequences',\n",
        " u'of',\n",
        " u'letters',\n",
        " u'that',\n",
        " u'don',\n",
        " u't',\n",
        " u'include',\n",
        " u'punctuation']"
       ]
      }
     ],
     "prompt_number": 5
    },
    {
     "cell_type": "code",
     "collapsed": false,
     "input": [
      "text3 = '''Isn't it na\u00efve to not include the apostrophe?'''"
     ],
     "language": "python",
     "metadata": {},
     "outputs": [],
     "prompt_number": 6
    },
    {
     "cell_type": "code",
     "collapsed": false,
     "input": [
      "re.findall(r\"[A-Za-z']+\", text3)"
     ],
     "language": "python",
     "metadata": {},
     "outputs": [
      {
       "metadata": {},
       "output_type": "pyout",
       "prompt_number": 7,
       "text": [
        "[u\"Isn't\",\n",
        " u'it',\n",
        " u'na',\n",
        " u've',\n",
        " u'to',\n",
        " u'not',\n",
        " u'include',\n",
        " u'the',\n",
        " u'apostrophe']"
       ]
      }
     ],
     "prompt_number": 7
    },
    {
     "cell_type": "code",
     "collapsed": false,
     "input": [
      "text4 = \"Fine, let's use NLTK. That shouldn't be too hard.\""
     ],
     "language": "python",
     "metadata": {},
     "outputs": [],
     "prompt_number": 8
    },
    {
     "cell_type": "code",
     "collapsed": false,
     "input": [
      "import nltk"
     ],
     "language": "python",
     "metadata": {},
     "outputs": [],
     "prompt_number": 9
    },
    {
     "cell_type": "code",
     "collapsed": false,
     "input": [
      "[nltk.word_tokenize(sent) for sent in nltk.sent_tokenize(text4)]"
     ],
     "language": "python",
     "metadata": {},
     "outputs": [
      {
       "metadata": {},
       "output_type": "pyout",
       "prompt_number": 10,
       "text": [
        "[[u'Fine', u',', u'let', u\"'s\", u'use', u'NLTK', u'.'],\n",
        " [u'That', u'should', u\"n't\", u'be', u'too', u'hard', u'.']]"
       ]
      }
     ],
     "prompt_number": 10
    },
    {
     "cell_type": "code",
     "collapsed": false,
     "input": [
      "text = '\u3053\u306e\u6587\u3082\u3001\u8a00\u8449\u3067\u69cb\u6210\u3055\u308c\u3066\u3044\u307e\u3059'\n",
      "# Translation: \"This sentence is also made of words\""
     ],
     "language": "python",
     "metadata": {},
     "outputs": [],
     "prompt_number": 11
    },
    {
     "cell_type": "code",
     "collapsed": false,
     "input": [
      "for word in nltk.word_tokenize(text): print(word)"
     ],
     "language": "python",
     "metadata": {},
     "outputs": [
      {
       "output_type": "stream",
       "stream": "stdout",
       "text": [
        "\u3053\u306e\u6587\u3082\u3001\u8a00\u8449\u3067\u69cb\u6210\u3055\u308c\u3066\u3044\u307e\u3059\n"
       ]
      }
     ],
     "prompt_number": 12
    },
    {
     "cell_type": "code",
     "collapsed": false,
     "input": [
      "from metanl import japanese"
     ],
     "language": "python",
     "metadata": {},
     "outputs": [],
     "prompt_number": 13
    },
    {
     "cell_type": "code",
     "collapsed": false,
     "input": [
      "for word in japanese.normalize_list(text): print(word)"
     ],
     "language": "python",
     "metadata": {},
     "outputs": [
      {
       "output_type": "stream",
       "stream": "stdout",
       "text": [
        "\u6587\n",
        "\u8a00\u8449\n",
        "\u69cb\u6210\n"
       ]
      }
     ],
     "prompt_number": 14
    },
    {
     "cell_type": "code",
     "collapsed": false,
     "input": [
      "text2 = 'You might be wondering whether we can deal with suffixes in English'"
     ],
     "language": "python",
     "metadata": {},
     "outputs": [],
     "prompt_number": 15
    },
    {
     "cell_type": "code",
     "collapsed": false,
     "input": [
      "from metanl import english"
     ],
     "language": "python",
     "metadata": {},
     "outputs": [],
     "prompt_number": 16
    },
    {
     "cell_type": "code",
     "collapsed": false,
     "input": [
      "english.normalize_list(text2)"
     ],
     "language": "python",
     "metadata": {},
     "outputs": [
      {
       "metadata": {},
       "output_type": "pyout",
       "prompt_number": 17,
       "text": [
        "[u'you',\n",
        " u'might',\n",
        " u'be',\n",
        " u'wonder',\n",
        " u'whether',\n",
        " u'we',\n",
        " u'can',\n",
        " u'deal',\n",
        " u'with',\n",
        " u'suffix',\n",
        " u'in',\n",
        " u'english']"
       ]
      }
     ],
     "prompt_number": 17
    }
   ],
   "metadata": {}
  }
 ]
}