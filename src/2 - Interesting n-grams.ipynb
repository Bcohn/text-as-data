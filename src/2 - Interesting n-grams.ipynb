{
 "metadata": {
  "name": ""
 },
 "nbformat": 3,
 "nbformat_minor": 0,
 "worksheets": [
  {
   "cells": [
    {
     "cell_type": "code",
     "collapsed": false,
     "input": [
      "from nltk.book import *"
     ],
     "language": "python",
     "metadata": {},
     "outputs": [
      {
       "output_type": "stream",
       "stream": "stdout",
       "text": [
        "*** Introductory Examples for the NLTK Book ***\n",
        "Loading text1, ..., text9 and sent1, ..., sent9\n",
        "Type the name of the text or sentence to view it.\n",
        "Type: 'texts()' or 'sents()' to list the materials.\n",
        "text1:"
       ]
      },
      {
       "output_type": "stream",
       "stream": "stdout",
       "text": [
        " Moby Dick by Herman Melville 1851\n",
        "text2:"
       ]
      },
      {
       "output_type": "stream",
       "stream": "stdout",
       "text": [
        " Sense and Sensibility by Jane Austen 1811\n",
        "text3:"
       ]
      },
      {
       "output_type": "stream",
       "stream": "stdout",
       "text": [
        " The Book of Genesis\n",
        "text4:"
       ]
      },
      {
       "output_type": "stream",
       "stream": "stdout",
       "text": [
        " Inaugural Address Corpus\n",
        "text5:"
       ]
      },
      {
       "output_type": "stream",
       "stream": "stdout",
       "text": [
        " Chat Corpus\n",
        "text6: Monty Python and the Holy Grail\n",
        "text7:"
       ]
      },
      {
       "output_type": "stream",
       "stream": "stdout",
       "text": [
        " Wall Street Journal\n",
        "text8: Personals Corpus\n",
        "text9:"
       ]
      },
      {
       "output_type": "stream",
       "stream": "stdout",
       "text": [
        " The Man Who Was Thursday by G . K . Chesterton 1908\n"
       ]
      }
     ],
     "prompt_number": 3
    },
    {
     "cell_type": "code",
     "collapsed": false,
     "input": [
      "import nltk"
     ],
     "language": "python",
     "metadata": {},
     "outputs": [],
     "prompt_number": 4
    },
    {
     "cell_type": "code",
     "collapsed": false,
     "input": [
      "nltk.bigrams(text1[4712:4732])"
     ],
     "language": "python",
     "metadata": {},
     "outputs": [
      {
       "metadata": {},
       "output_type": "pyout",
       "prompt_number": 5,
       "text": [
        "[('Call', 'me'),\n",
        " ('me', 'Ishmael'),\n",
        " ('Ishmael', '.'),\n",
        " ('.', 'Some'),\n",
        " ('Some', 'years'),\n",
        " ('years', 'ago'),\n",
        " ('ago', '--'),\n",
        " ('--', 'never'),\n",
        " ('never', 'mind'),\n",
        " ('mind', 'how'),\n",
        " ('how', 'long'),\n",
        " ('long', 'precisely'),\n",
        " ('precisely', '--'),\n",
        " ('--', 'having'),\n",
        " ('having', 'little'),\n",
        " ('little', 'or'),\n",
        " ('or', 'no'),\n",
        " ('no', 'money'),\n",
        " ('money', 'in')]"
       ]
      }
     ],
     "prompt_number": 5
    },
    {
     "cell_type": "code",
     "collapsed": false,
     "input": [
      "text1.collocations()"
     ],
     "language": "python",
     "metadata": {},
     "outputs": [
      {
       "output_type": "stream",
       "stream": "stdout",
       "text": [
        "Building collocations list\n",
        "Sperm Whale; Moby Dick; White Whale; old man; Captain Ahab; sperm\n",
        "whale; Right Whale; Captain Peleg; New Bedford; Cape Horn; cried Ahab;\n",
        "years ago; lower jaw; never mind; Father Mapple; cried Stubb; chief\n",
        "mate; white whale; ivory leg; one hand"
       ]
      },
      {
       "output_type": "stream",
       "stream": "stdout",
       "text": [
        "\n"
       ]
      }
     ],
     "prompt_number": 6
    },
    {
     "cell_type": "code",
     "collapsed": false,
     "input": [
      "text3.collocations()"
     ],
     "language": "python",
     "metadata": {},
     "outputs": [
      {
       "output_type": "stream",
       "stream": "stdout",
       "text": [
        "Building collocations list\n",
        "said unto; pray thee; thou shalt; thou hast; thy seed; years old;\n",
        "spake unto; thou art; LORD God; every living; God hath; begat sons;\n",
        "seven years; shalt thou; little ones; living creature; creeping thing;\n",
        "savoury meat; thirty years; every beast"
       ]
      },
      {
       "output_type": "stream",
       "stream": "stdout",
       "text": [
        "\n"
       ]
      }
     ],
     "prompt_number": 7
    },
    {
     "cell_type": "code",
     "collapsed": false,
     "input": [
      "text2.collocations()"
     ],
     "language": "python",
     "metadata": {},
     "outputs": [
      {
       "output_type": "stream",
       "stream": "stdout",
       "text": [
        "Building collocations list\n",
        "Colonel Brandon; Sir John; Lady Middleton; Miss Dashwood; every thing;\n",
        "thousand pounds; dare say; Miss Steeles; said Elinor; Miss Steele;\n",
        "every body; John Dashwood; great deal; Harley Street; Berkeley Street;\n",
        "Miss Dashwoods; young man; Combe Magna; every day; next morning"
       ]
      },
      {
       "output_type": "stream",
       "stream": "stdout",
       "text": [
        "\n"
       ]
      }
     ],
     "prompt_number": 8
    },
    {
     "cell_type": "code",
     "collapsed": false,
     "input": [
      "text6.collocations()"
     ],
     "language": "python",
     "metadata": {},
     "outputs": [
      {
       "output_type": "stream",
       "stream": "stdout",
       "text": [
        "Building collocations list\n",
        "BLACK KNIGHT; HEAD KNIGHT; Holy Grail; FRENCH GUARD; Sir Robin; Run\n",
        "away; CARTOON CHARACTER; King Arthur; Iesu domine; Pie Iesu; DEAD\n",
        "PERSON; Round Table; OLD MAN; dramatic chord; dona eis; eis requiem;\n",
        "LEFT HEAD; FRENCH GUARDS; music stops; Sir Launcelot"
       ]
      },
      {
       "output_type": "stream",
       "stream": "stdout",
       "text": [
        "\n"
       ]
      }
     ],
     "prompt_number": 9
    },
    {
     "cell_type": "code",
     "collapsed": false,
     "input": [
      "# Make a frequency distribution.\n",
      "# It maps the first two words in a trigram to a\n",
      "# distribution of what the third word could be.\n",
      "cfd = nltk.ConditionalFreqDist(\n",
      "    ((first, second), third)\n",
      "    for first, second, third in nltk.trigrams(text6)\n",
      ")"
     ],
     "language": "python",
     "metadata": {},
     "outputs": [],
     "prompt_number": 10
    },
    {
     "cell_type": "code",
     "collapsed": false,
     "input": [
      "# Generate text by repeatedly adding the most likely\n",
      "# word given the previous two.\n",
      "def generate_words(cfdist, word1, word2, num=30):\n",
      "    print word1,\n",
      "    for i in range(num):\n",
      "        print word2,\n",
      "        next = cfdist[word1, word2].max()\n",
      "        word1, word2 = word2, next"
     ],
     "language": "python",
     "metadata": {},
     "outputs": [],
     "prompt_number": 11
    },
    {
     "cell_type": "code",
     "collapsed": false,
     "input": [
      "generate_words(cfd, 'KING', 'ARTHUR')"
     ],
     "language": "python",
     "metadata": {},
     "outputs": [
      {
       "output_type": "stream",
       "stream": "stdout",
       "text": [
        "KING ARTHUR : What is your name ? TIM : I ' m not dead ! [ clang ] Bring out your dead ! [ clang ] Bring out your dead\n"
       ]
      }
     ],
     "prompt_number": 12
    },
    {
     "cell_type": "code",
     "collapsed": false,
     "input": [],
     "language": "python",
     "metadata": {},
     "outputs": []
    }
   ],
   "metadata": {}
  }
 ]
}